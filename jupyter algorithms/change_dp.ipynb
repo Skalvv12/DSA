{
 "cells": [
  {
   "cell_type": "code",
   "execution_count": null,
   "metadata": {},
   "outputs": [],
   "source": []
  },
  {
   "cell_type": "code",
   "execution_count": 1,
   "metadata": {
    "vscode": {
     "languageId": "plaintext"
    }
   },
   "outputs": [],
   "source": [
    "#include <iostream>\n",
    "#include <functional>\n",
    "#include <vector>\n",
    "\n",
    "using namespace std;\n"
   ]
  },
  {
   "cell_type": "code",
   "execution_count": 2,
   "metadata": {
    "vscode": {
     "languageId": "plaintext"
    }
   },
   "outputs": [],
   "source": [
    "struct Operation {\n",
    "  function<int(int)> reverse_op;\n",
    "  int cost;\n",
    "  string name;\n",
    "};\n",
    "\n",
    "struct Data {\n",
    "  int min_ops;\n",
    "  vector<string>& name_ops;\n",
    "};\n"
   ]
  },
  {
   "cell_type": "code",
   "execution_count": 3,
   "metadata": {
    "vscode": {
     "languageId": "plaintext"
    }
   },
   "outputs": [],
   "source": [
    "int min_one(int x) {\n",
    "    return x - 1;\n",
    "}"
   ]
  },
  {
   "cell_type": "code",
   "execution_count": 4,
   "metadata": {
    "vscode": {
     "languageId": "plaintext"
    }
   },
   "outputs": [],
   "source": [
    "\n",
    "int del_two(int x) {\n",
    "    return x/2;\n",
    "}"
   ]
  },
  {
   "cell_type": "code",
   "execution_count": 5,
   "metadata": {
    "vscode": {
     "languageId": "plaintext"
    }
   },
   "outputs": [],
   "source": [
    "int del_three(int x) {\n",
    "    return x/3;\n",
    "}"
   ]
  },
  {
   "cell_type": "code",
   "execution_count": null,
   "metadata": {
    "vscode": {
     "languageId": "plaintext"
    }
   },
   "outputs": [],
   "source": []
  },
  {
   "cell_type": "code",
   "execution_count": 6,
   "metadata": {
    "vscode": {
     "languageId": "cpp"
    }
   },
   "outputs": [],
   "source": [
    "// const Data min_ops_dp(int input, vector<Operation> calc_op_tree) \n",
    "// {\n",
    "//   vector<int> min_ops(input, 1); //all vals init to 1\n",
    "//   vector<string> name_ops(input);\n",
    "\n",
    "//   for(int i = 1; i < input; i++)\n",
    "//   {\n",
    "//     int min_cost = i + 1;\n",
    "//     string min_op_name = \"\";\n",
    "//     for (const auto& calc_op : calc_op_tree) \n",
    "//     {\n",
    "//       int res = calc_op.reverse_op(i + 1); // i + 1 = denomination\n",
    "      \n",
    "//       if(res % 1 != 0) continue;\n",
    "\n",
    "//       int cost = calc_op.cost;\n",
    "//       if(res!=0) cost += min_ops[res - 1];\n",
    "\n",
    "//       if(cost < min_cost)\n",
    "//       {\n",
    "//         min_cost = cost;\n",
    "//         min_op_name = calc_op.name;\n",
    "//       }\n",
    "//     }\n",
    "\n",
    "//     min_ops[i] = min_cost;\n",
    "//     name_ops[i] = min_op_name;\n",
    "//   }\n",
    "\n",
    "//   return { min_ops[input - 1], name_ops };\n",
    "// }"
   ]
  },
  {
   "cell_type": "code",
   "execution_count": 7,
   "metadata": {
    "vscode": {
     "languageId": "cpp"
    }
   },
   "outputs": [
    {
     "name": "stderr",
     "output_type": "stream",
     "text": [
      "\u001b[1minput_line_14:3:1: \u001b[0m\u001b[0;1;31merror: \u001b[0m\u001b[1mfunction definition is not allowed here\u001b[0m\n",
      "{\n",
      "\u001b[0;1;32m^\n",
      "\u001b[0m"
     ]
    },
    {
     "ename": "Interpreter Error",
     "evalue": "",
     "output_type": "error",
     "traceback": [
      "Interpreter Error: "
     ]
    }
   ],
   "source": [
    "vector<int> find_optimal_sequence(int n)\n",
    "{\n",
    "  vector<Operation> calcTree = {\n",
    "    {min_one, 1, \"min_one\"},\n",
    "    {del_two, 1, \"del_two\"},\n",
    "    {del_three, 1, \"del_three\"}\n",
    "  };\n",
    "\n",
    "  //Data data = min_ops_dp(n, calcTree);\n",
    "  \n",
    "  vector<int> answer(data.min_ops + 1);\n",
    "  answer[0] = data.min_ops;\n",
    "  answer[answer.size() - 1] = 0;\n",
    "  int last_num = n;\n",
    "\n",
    "  return answer;\n",
    "}"
   ]
  },
  {
   "cell_type": "code",
   "execution_count": null,
   "metadata": {},
   "outputs": [],
   "source": []
  },
  {
   "cell_type": "code",
   "execution_count": 8,
   "metadata": {
    "vscode": {
     "languageId": "cpp"
    }
   },
   "outputs": [
    {
     "name": "stderr",
     "output_type": "stream",
     "text": [
      "\u001b[1minput_line_15:2:10: \u001b[0m\u001b[0;1;31merror: \u001b[0m\u001b[1muse of undeclared identifier 'Change'\u001b[0m\n",
      "  vector<Change> change_tree = {\n",
      "\u001b[0;1;32m         ^\n",
      "\u001b[0m\u001b[1minput_line_15:10:34: \u001b[0m\u001b[0;1;31merror: \u001b[0m\u001b[1muse of undeclared identifier 'change_tree'\u001b[0m\n",
      "  std::cout << min_ops_dp(input, change_tree)<< '\\n'; \n",
      "\u001b[0;1;32m                                 ^\n",
      "\u001b[0m"
     ]
    },
    {
     "ename": "Interpreter Error",
     "evalue": "",
     "output_type": "error",
     "traceback": [
      "Interpreter Error: "
     ]
    }
   ],
   "source": [
    "int main() {\n",
    "  vector<Change> change_tree = {\n",
    "        {min_one, 1},\n",
    "        {min_three, 1},\n",
    "        {min_four, 1}\n",
    "    };\n",
    "\n",
    "  \n",
    "\n",
    "  int input;\n",
    "  std::cin >> input;\n",
    "\n",
    "  std::cout << min_ops_dp(input, change_tree)<< '\\n'; \n",
    "}\n"
   ]
  },
  {
   "cell_type": "code",
   "execution_count": null,
   "metadata": {},
   "outputs": [],
   "source": []
  }
 ],
 "metadata": {
  "kernelspec": {
   "display_name": "C++17",
   "language": "C++17",
   "name": "xcpp17"
  },
  "language_info": {
   "codemirror_mode": "text/x-c++src",
   "file_extension": ".cpp",
   "mimetype": "text/x-c++src",
   "name": "c++",
   "version": "17"
  }
 },
 "nbformat": 4,
 "nbformat_minor": 2
}
