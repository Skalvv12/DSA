{
 "cells": [
  {
   "cell_type": "code",
   "execution_count": 6,
   "id": "6d601966",
   "metadata": {},
   "outputs": [],
   "source": [
    "#include <iostream>\n",
    "#include <cstdlib>\n",
    "using namespace std;"
   ]
  },
  {
   "cell_type": "code",
   "execution_count": 8,
   "id": "a7760a71",
   "metadata": {},
   "outputs": [],
   "source": [
    "int *i = (int*) malloc(6*sizeof(int));"
   ]
  },
  {
   "cell_type": "code",
   "execution_count": 9,
   "id": "f190d23e",
   "metadata": {},
   "outputs": [
    {
     "data": {
      "text/plain": [
       "@0x7ffcc75133e8"
      ]
     },
     "execution_count": 9,
     "metadata": {},
     "output_type": "execute_result"
    }
   ],
   "source": [
    "i"
   ]
  },
  {
   "cell_type": "code",
   "execution_count": 10,
   "id": "40d76a7c",
   "metadata": {},
   "outputs": [
    {
     "data": {
      "text/plain": [
       "@0x7ffcc75133e8"
      ]
     },
     "execution_count": 10,
     "metadata": {},
     "output_type": "execute_result"
    }
   ],
   "source": [
    "&i"
   ]
  },
  {
   "cell_type": "code",
   "execution_count": 18,
   "id": "3da0ae7b",
   "metadata": {},
   "outputs": [
    {
     "name": "stdout",
     "output_type": "stream",
     "text": [
      "ptr:0x559b2cb19fb0\n",
      "val:0\n",
      "ptr:0x559b2cb19fb4\n",
      "val:1\n",
      "ptr:0x559b2cb19fb8\n",
      "val:2\n",
      "ptr:0x559b2cb19fbc\n",
      "val:3\n",
      "ptr:0x559b2cb19fc0\n",
      "val:4\n",
      "ptr:0x559b2cb19fc4\n",
      "val:5\n"
     ]
    }
   ],
   "source": [
    "for(int j = 0; j < 6; j++)\n",
    "{\n",
    "    *(i+j) = j;\n",
    "    cout<<\"ptr:\" << i+j << \"\\n\";\n",
    "    cout<<\"val:\" << *(i+j) << \"\\n\";\n",
    "}"
   ]
  },
  {
   "cell_type": "code",
   "execution_count": null,
   "id": "be13fcf6",
   "metadata": {},
   "outputs": [],
   "source": []
  }
 ],
 "metadata": {
  "kernelspec": {
   "display_name": "C++17",
   "language": "C++17",
   "name": "xcpp17"
  },
  "language_info": {
   "codemirror_mode": "text/x-c++src",
   "file_extension": ".cpp",
   "mimetype": "text/x-c++src",
   "name": "c++",
   "version": "17"
  }
 },
 "nbformat": 4,
 "nbformat_minor": 5
}
