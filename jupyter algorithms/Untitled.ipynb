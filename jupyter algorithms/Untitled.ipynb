{
 "cells": [
  {
   "cell_type": "code",
   "execution_count": 1,
   "id": "491ad593",
   "metadata": {},
   "outputs": [],
   "source": [
    "#include <iostream>\n",
    "#include <cstdlib>\n",
    "#include <math.h>\n",
    "\n",
    "using namespace std;"
   ]
  },
  {
   "cell_type": "code",
   "execution_count": null,
   "id": "3e8b6a1f",
   "metadata": {},
   "outputs": [],
   "source": [
    "int *i = (int*) malloc(6*sizeof(int));"
   ]
  },
  {
   "cell_type": "code",
   "execution_count": 3,
   "id": "453f5b1f",
   "metadata": {},
   "outputs": [
    {
     "data": {
      "text/plain": [
       "@0x7fffc6305338"
      ]
     },
     "execution_count": 3,
     "metadata": {},
     "output_type": "execute_result"
    }
   ],
   "source": [
    "i"
   ]
  },
  {
   "cell_type": "code",
   "execution_count": 4,
   "id": "33264f8e",
   "metadata": {},
   "outputs": [
    {
     "data": {
      "text/plain": [
       "@0x7fffc6305338"
      ]
     },
     "execution_count": 4,
     "metadata": {},
     "output_type": "execute_result"
    }
   ],
   "source": [
    "&i"
   ]
  },
  {
   "cell_type": "code",
   "execution_count": 10,
   "id": "7a27acb7",
   "metadata": {},
   "outputs": [
    {
     "data": {
      "text/plain": [
       "@0x7fffc6305338"
      ]
     },
     "execution_count": 10,
     "metadata": {},
     "output_type": "execute_result"
    }
   ],
   "source": [
    "int *k = i;\n",
    "k"
   ]
  },
  {
   "cell_type": "code",
   "execution_count": 11,
   "id": "663cd58a",
   "metadata": {},
   "outputs": [
    {
     "data": {
      "text/plain": [
       "@0x7fffc6305338"
      ]
     },
     "execution_count": 11,
     "metadata": {},
     "output_type": "execute_result"
    }
   ],
   "source": [
    "&k"
   ]
  },
  {
   "cell_type": "code",
   "execution_count": 12,
   "id": "c30647ba",
   "metadata": {},
   "outputs": [
    {
     "data": {
      "text/plain": [
       "0"
      ]
     },
     "execution_count": 12,
     "metadata": {},
     "output_type": "execute_result"
    }
   ],
   "source": [
    "*k"
   ]
  },
  {
   "cell_type": "code",
   "execution_count": 5,
   "id": "e8671180",
   "metadata": {},
   "outputs": [
    {
     "name": "stdout",
     "output_type": "stream",
     "text": [
      "ptr:0x560b5117b450\n",
      "val:0\n",
      "ptr:0x560b5117b454\n",
      "val:1\n",
      "ptr:0x560b5117b458\n",
      "val:2\n",
      "ptr:0x560b5117b45c\n",
      "val:3\n",
      "ptr:0x560b5117b460\n",
      "val:4\n",
      "ptr:0x560b5117b464\n",
      "val:5\n"
     ]
    }
   ],
   "source": [
    "for(int j = 0; j < 6; j++)\n",
    "{\n",
    "    *(i+j) = j;\n",
    "    cout<<\"ptr:\" << i+j << \"\\n\";\n",
    "    cout<<\"val:\" << *(i+j) << \"\\n\";\n",
    "}"
   ]
  },
  {
   "cell_type": "code",
   "execution_count": 6,
   "id": "dfc25af9",
   "metadata": {},
   "outputs": [
    {
     "data": {
      "text/plain": [
       "4"
      ]
     },
     "execution_count": 6,
     "metadata": {},
     "output_type": "execute_result"
    }
   ],
   "source": [
    "sizeof(int)"
   ]
  },
  {
   "cell_type": "code",
   "execution_count": 8,
   "id": "71648328",
   "metadata": {},
   "outputs": [
    {
     "data": {
      "text/plain": [
       "4.2949673e+09"
      ]
     },
     "execution_count": 8,
     "metadata": {},
     "output_type": "execute_result"
    }
   ],
   "source": [
    "pow(2, 32)"
   ]
  }
 ],
 "metadata": {
  "kernelspec": {
   "display_name": "C++17",
   "language": "C++17",
   "name": "xcpp17"
  }
 },
 "nbformat": 4,
 "nbformat_minor": 5
}
