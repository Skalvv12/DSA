{
 "cells": [
  {
   "cell_type": "code",
   "execution_count": 1,
   "metadata": {},
   "outputs": [],
   "source": [
    "import numpy as np"
   ]
  },
  {
   "cell_type": "code",
   "execution_count": 2,
   "metadata": {},
   "outputs": [
    {
     "data": {
      "text/plain": [
       "array([0., 0., 0., 0., 0., 0., 0., 0.])"
      ]
     },
     "execution_count": 2,
     "metadata": {},
     "output_type": "execute_result"
    }
   ],
   "source": [
    "np.zeros(8)"
   ]
  },
  {
   "cell_type": "code",
   "execution_count": 3,
   "metadata": {},
   "outputs": [
    {
     "name": "stdout",
     "output_type": "stream",
     "text": [
      "2\n",
      "{'1': 1}\n"
     ]
    }
   ],
   "source": [
    "d = {\"1\": 1}\n",
    "b = d[\"1\"]\n",
    "b += 1\n",
    "print(b)\n",
    "print(d)"
   ]
  },
  {
   "cell_type": "code",
   "execution_count": 4,
   "metadata": {},
   "outputs": [],
   "source": [
    "min_one = lambda x: x-1\n",
    "min_three = lambda x: x-3\n",
    "min_four = lambda x: x-4\n",
    "\n",
    "\n",
    "change_tree = [{\"reverse_op\": min_one, \"cost\": 1},\n",
    "                {\"reverse_op\": min_three, \"cost\": 1},\n",
    "                {\"reverse_op\": min_four, \"cost\": 1},]\n",
    "\n"
   ]
  },
  {
   "cell_type": "code",
   "execution_count": 5,
   "metadata": {},
   "outputs": [],
   "source": [
    "min_one = lambda x: x-1\n",
    "del_two = lambda x: x/2\n",
    "del_three = lambda x: x/3\n",
    "\n",
    "calc_tree = [{\"reverse_op\": min_one, \"cost\": 1},\n",
    "              {\"reverse_op\": del_two, \"cost\": 1},\n",
    "              {\"reverse_op\": del_three, \"cost\": 1},]\n"
   ]
  },
  {
   "cell_type": "code",
   "execution_count": 6,
   "metadata": {},
   "outputs": [],
   "source": [
    "def min_ops_dp(input, operations_tree: list):\n",
    "    min_ops = np.zeros(input, dtype = np.int32)\n",
    "    intermediate_values = []\n",
    "    \n",
    "    for i in range(input):\n",
    "        if i < 3:\n",
    "            min_ops[i] = 1\n",
    "        else:\n",
    "            min_cost = i+1\n",
    "            for operation in operations_tree:\n",
    "                \n",
    "                res = operation[\"reverse_op\"](i+1)\n",
    "                if res % 1 != 0:\n",
    "                  continue\n",
    "               \n",
    "                cost = operation[\"cost\"] + min_ops[int(res) - 1]\n",
    "                \n",
    "                if cost < min_cost: \n",
    "                    min_cost = cost\n",
    "                    \n",
    "\n",
    "            min_ops[i] = min_cost\n",
    "    \n",
    "    return min_ops[input - 1]\n"
   ]
  },
  {
   "cell_type": "code",
   "execution_count": 7,
   "metadata": {},
   "outputs": [],
   "source": [
    "def min_ops_dp(input, operations_tree: list):\n",
    "    min_ops = np.zeros(input, dtype = np.int32)\n",
    "    intermediate_values = []\n",
    "    \n",
    "    min_ops[0] = 1\n",
    "    \n",
    "    for idx in range(1, input, 1):\n",
    "        \n",
    "        min_cost = idx + 1\n",
    "        for operation in operations_tree:\n",
    "            \n",
    "            res = operation[\"reverse_op\"](idx+1) #idx+1 = coin nomination\n",
    "            if res < 0:\n",
    "                continue\n",
    "            \n",
    "            if res != 0:\n",
    "                cost = operation[\"cost\"] + min_ops[int(res) - 1]\n",
    "            else: \n",
    "                cost = operation[\"cost\"]\n",
    "                \n",
    "            if cost < min_cost: \n",
    "                min_cost = cost\n",
    "                \n",
    "\n",
    "        min_ops[idx] = min_cost\n",
    "    \n",
    "    return min_ops[input - 1]\n"
   ]
  },
  {
   "cell_type": "code",
   "execution_count": 8,
   "metadata": {},
   "outputs": [],
   "source": [
    "def min_ops_dp(input, operations_tree: list):\n",
    "    min_ops = np.zeros(input, dtype = np.int32)\n",
    "    intermediate_values = []\n",
    "    \n",
    "    for i in range(input):\n",
    "        if i < 3:\n",
    "            min_ops[i] = 1\n",
    "        else:\n",
    "            min_cost = i+1\n",
    "            for operation in operations_tree:\n",
    "                \n",
    "                res = operation[\"reverse_op\"](i+1)\n",
    "                if res < 1:\n",
    "                  continue\n",
    "               \n",
    "                cost = operation[\"cost\"] + min_ops[int(res) - 1]\n",
    "                \n",
    "                if cost < min_cost: \n",
    "                    min_cost = cost\n",
    "                    \n",
    "\n",
    "            min_ops[i] = min_cost\n",
    "    \n",
    "    return min_ops[input - 1]\n"
   ]
  },
  {
   "cell_type": "code",
   "execution_count": 9,
   "metadata": {},
   "outputs": [
    {
     "name": "stdout",
     "output_type": "stream",
     "text": [
      "n:  1 ops:  1\n",
      "n:  2 ops:  1\n",
      "n:  3 ops:  1\n",
      "n:  4 ops:  2\n",
      "n:  5 ops:  2\n",
      "n:  6 ops:  2\n",
      "n:  7 ops:  2\n",
      "n:  8 ops:  3\n",
      "n:  9 ops:  3\n",
      "n:  10 ops:  3\n",
      "n:  11 ops:  3\n",
      "n:  12 ops:  4\n",
      "n:  13 ops:  4\n",
      "n:  14 ops:  4\n",
      "n:  15 ops:  4\n",
      "n:  16 ops:  5\n"
     ]
    }
   ],
   "source": [
    "for i in range(1, 17, 1):\n",
    "    print(\"n: \", i, \"ops: \", min_ops_dp(i, change_tree))"
   ]
  },
  {
   "cell_type": "code",
   "execution_count": 10,
   "metadata": {},
   "outputs": [
    {
     "name": "stdout",
     "output_type": "stream",
     "text": [
      "[4, 2, 3]\n"
     ]
    }
   ],
   "source": [
    "a = [2,3]\n",
    "\n",
    "b = [4]\n",
    "b.extend(a)\n",
    "print(b)"
   ]
  },
  {
   "cell_type": "code",
   "execution_count": 11,
   "metadata": {},
   "outputs": [],
   "source": [
    "def min_ops_dp(input, operations_tree: list):\n",
    "    min_cost_history = np.zeros(input, dtype = np.int32)\n",
    "    intermediate_values = []\n",
    "    \n",
    "    for i in range(input):\n",
    "        if i < 3:\n",
    "            min_cost_history[i] = 1\n",
    "            intermediate_values[i].append([i+1])\n",
    "        else:\n",
    "            min_cost = i+1\n",
    "            min_op = {'number': 0, 'cost': i+1}\n",
    "            for num, op in enumerate(operations_tree):\n",
    "                \n",
    "                res = op[\"reverse_op\"](i+1)\n",
    "                if res % 1 != 0:\n",
    "                  continue\n",
    "               \n",
    "                cost = op[\"cost\"] + min_cost_history[int(res) - 1]\n",
    "                \n",
    "                if cost < min_cost: \n",
    "                    min_op['cost'] = cost\n",
    "                    min_op['num'] = num\n",
    "                    \n",
    "            min_cost_history[i] = min_cost\n",
    "            intermediate_values[i].append()\n",
    "            #record previous?\n",
    "    \n",
    "    return min_cost_history[input - 1]\n"
   ]
  },
  {
   "cell_type": "code",
   "execution_count": 12,
   "metadata": {},
   "outputs": [
    {
     "ename": "TypeError",
     "evalue": "min_ops_dp() missing 1 required positional argument: 'operations_tree'",
     "output_type": "error",
     "traceback": [
      "\u001b[0;31m---------------------------------------------------------------------------\u001b[0m",
      "\u001b[0;31mTypeError\u001b[0m                                 Traceback (most recent call last)",
      "Cell \u001b[0;32mIn[12], line 2\u001b[0m\n\u001b[1;32m      1\u001b[0m \u001b[39mfor\u001b[39;00m i \u001b[39min\u001b[39;00m \u001b[39mrange\u001b[39m(\u001b[39m1\u001b[39m, \u001b[39m17\u001b[39m, \u001b[39m1\u001b[39m):\n\u001b[0;32m----> 2\u001b[0m     \u001b[39mprint\u001b[39m(\u001b[39m\"\u001b[39m\u001b[39mn: \u001b[39m\u001b[39m\"\u001b[39m, i, \u001b[39m\"\u001b[39m\u001b[39mops: \u001b[39m\u001b[39m\"\u001b[39m, min_ops_dp(i))\n",
      "\u001b[0;31mTypeError\u001b[0m: min_ops_dp() missing 1 required positional argument: 'operations_tree'"
     ]
    }
   ],
   "source": [
    "for i in range(1, 17, 1):\n",
    "    print(\"n: \", i, \"ops: \", min_ops_dp(i))"
   ]
  },
  {
   "cell_type": "code",
   "execution_count": null,
   "metadata": {},
   "outputs": [],
   "source": []
  },
  {
   "cell_type": "code",
   "execution_count": null,
   "metadata": {},
   "outputs": [],
   "source": [
    "_up = lambda x\n",
    "_down = lambda x: x-3\n",
    "min_four = lambda x: x-4\n",
    "\n",
    "\n",
    "change_tree = [{\"reverse_op\": min_one, \"cost\": 1},\n",
    "                {\"reverse_op\": min_three, \"cost\": 1},\n",
    "                {\"reverse_op\": min_four, \"cost\": 1},]"
   ]
  },
  {
   "cell_type": "code",
   "execution_count": 1,
   "metadata": {},
   "outputs": [],
   "source": [
    "import numpy as np"
   ]
  },
  {
   "cell_type": "code",
   "execution_count": 2,
   "metadata": {},
   "outputs": [],
   "source": [
    "def edit_distance(first_string, second_string):\n",
    "    dp_table = np.zeros((len(first_string)+1, len(second_string) + 1))\n",
    "    op_history_table = np.zeros((len(first_string)+1, len(second_string) + 1))\n",
    "    \n",
    "    for i in range(dp_table.shape[0]):\n",
    "        for j in range(dp_table.shape[1]):\n",
    "            if i == 0 and j == 0:\n",
    "                dp_table[i, j] = 0\n",
    "            elif i == 0:\n",
    "                dp_table[i, j] = dp_table[i, j-1] + 1\n",
    "            elif j == 0:\n",
    "                dp_table[i, j] = dp_table[i-1, j] + 1\n",
    "            else:\n",
    "                min_ops_num = max(i,j)\n",
    "                \n",
    "                current_ops_num = min_ops_num\n",
    "                #_up\n",
    "                current_ops_num = dp_table[i-1, j] + 1\n",
    "                if(current_ops_num <= min_ops_num): \n",
    "                    min_ops_num = current_ops_num\n",
    "                    op_history_table[i, j] = 1\n",
    "                #_down\n",
    "                current_ops_num = dp_table[i, j-1] + 1\n",
    "                if(current_ops_num <= min_ops_num): \n",
    "                    min_ops_num = current_ops_num\n",
    "                    op_history_table[i, j] = 2\n",
    "                \n",
    "                if(first_string[i-1] == second_string[j-1]):\n",
    "                    current_ops_num = dp_table[i-1, j-1]\n",
    "                    if(current_ops_num <= min_ops_num): \n",
    "                        min_ops_num = current_ops_num\n",
    "                        op_history_table[i, j] = 3\n",
    "                else: \n",
    "                    current_ops_num = dp_table[i-1, j-1] + 1\n",
    "                    if(current_ops_num <= min_ops_num): \n",
    "                        min_ops_num = current_ops_num\n",
    "                        op_history_table[i, j] = 3\n",
    "                \n",
    "                dp_table[i, j] = min_ops_num\n",
    "                #if first_string[i] == second_string[j]:\n",
    "                    \n",
    "            \n",
    "    return dp_table[dp_table.shape[0] - 1, dp_table.shape[1] - 1]"
   ]
  },
  {
   "cell_type": "code",
   "execution_count": 32,
   "metadata": {},
   "outputs": [
    {
     "data": {
      "text/plain": [
       "4.0"
      ]
     },
     "execution_count": 32,
     "metadata": {},
     "output_type": "execute_result"
    }
   ],
   "source": [
    "edit_distance(\"suck\", \"ass\")"
   ]
  },
  {
   "cell_type": "code",
   "execution_count": 35,
   "metadata": {},
   "outputs": [
    {
     "data": {
      "text/plain": [
       "5.0"
      ]
     },
     "execution_count": 35,
     "metadata": {},
     "output_type": "execute_result"
    }
   ],
   "source": [
    "edit_distance(\"editing\", \"distance\")"
   ]
  },
  {
   "cell_type": "code",
   "execution_count": 34,
   "metadata": {},
   "outputs": [
    {
     "data": {
      "text/plain": [
       "0.0"
      ]
     },
     "execution_count": 34,
     "metadata": {},
     "output_type": "execute_result"
    }
   ],
   "source": [
    "edit_distance(\"ab\", \"ab\")"
   ]
  },
  {
   "cell_type": "code",
   "execution_count": 6,
   "metadata": {},
   "outputs": [],
   "source": [
    "def edit_distance(first_string, second_string):\n",
    "    dp_table = np.zeros((len(first_string)+1, len(second_string) + 1))\n",
    "    op_history_table = np.zeros((len(first_string)+1, len(second_string) + 1))\n",
    "    \n",
    "    common_numbers = 0\n",
    "    \n",
    "    for i in range(dp_table.shape[0]):\n",
    "        for j in range(dp_table.shape[1]):\n",
    "            if i == 0 and j == 0:\n",
    "                dp_table[i, j] = 0\n",
    "            elif i == 0:\n",
    "                dp_table[i, j] = dp_table[i, j-1] + 1\n",
    "            elif j == 0:\n",
    "                dp_table[i, j] = dp_table[i-1, j] + 1\n",
    "            else:\n",
    "                min_ops_num = max(i,j)\n",
    "                \n",
    "                current_ops_num = min_ops_num\n",
    "                #_up\n",
    "                current_ops_num = dp_table[i-1, j] + 1\n",
    "                if(current_ops_num <= min_ops_num): \n",
    "                    min_ops_num = current_ops_num\n",
    "                    op_history_table[i, j] = 1\n",
    "                #_down\n",
    "                current_ops_num = dp_table[i, j-1] + 1\n",
    "                if(current_ops_num <= min_ops_num): \n",
    "                    min_ops_num = current_ops_num\n",
    "                    op_history_table[i, j] = 2\n",
    "                \n",
    "                if(first_string[i-1] == second_string[j-1]):\n",
    "                    current_ops_num = dp_table[i-1, j-1]\n",
    "                    if(current_ops_num <= min_ops_num): \n",
    "                        min_ops_num = current_ops_num\n",
    "                        common_numbers += 1\n",
    "                        op_history_table[i, j] = 3\n",
    "                \n",
    "                dp_table[i, j] = min_ops_num\n",
    "                #if first_string[i] == second_string[j]:\n",
    "                    \n",
    "            \n",
    "    return dp_table"
   ]
  },
  {
   "cell_type": "code",
   "execution_count": 4,
   "metadata": {},
   "outputs": [
    {
     "data": {
      "text/plain": [
       "(array([[0., 1., 2., 3., 4., 5., 6.],\n",
       "        [1., 0., 1., 2., 3., 4., 5.],\n",
       "        [2., 1., 0., 1., 2., 3., 4.],\n",
       "        [3., 2., 1., 2., 1., 2., 3.],\n",
       "        [4., 3., 2., 1., 2., 3., 4.],\n",
       "        [5., 4., 3., 2., 3., 4., 3.],\n",
       "        [6., 5., 4., 3., 4., 3., 4.]]),\n",
       " array([[0., 0., 0., 0., 0., 0., 0.],\n",
       "        [0., 3., 2., 2., 2., 2., 2.],\n",
       "        [0., 1., 3., 2., 2., 2., 2.],\n",
       "        [0., 1., 1., 2., 3., 2., 2.],\n",
       "        [0., 1., 1., 3., 2., 2., 2.],\n",
       "        [0., 1., 1., 1., 2., 2., 3.],\n",
       "        [0., 1., 1., 1., 2., 3., 2.]]))"
      ]
     },
     "execution_count": 4,
     "metadata": {},
     "output_type": "execute_result"
    }
   ],
   "source": [
    "edit_distance([3, 1, 2, 7, 8, 6], [3, 1, 7, 2, 6, 8])"
   ]
  },
  {
   "cell_type": "code",
   "execution_count": 7,
   "metadata": {},
   "outputs": [
    {
     "data": {
      "text/plain": [
       "(array([[0., 1., 2., 3., 4.],\n",
       "        [1., 1., 1., 2., 3.],\n",
       "        [2., 2., 2., 3., 2.],\n",
       "        [3., 3., 3., 2., 3.],\n",
       "        [4., 4., 4., 3., 4.]]),\n",
       " 3)"
      ]
     },
     "execution_count": 7,
     "metadata": {},
     "output_type": "execute_result"
    }
   ],
   "source": [
    "edit_distance([2, 7, 8, 3], [5, 2, 8, 7])"
   ]
  },
  {
   "cell_type": "code",
   "execution_count": 17,
   "metadata": {},
   "outputs": [
    {
     "data": {
      "image/png": "[encoded data removed]",
      "text/plain": [
       "<Figure size 640x480 with 2 Axes>"
      ]
     },
     "metadata": {},
     "output_type": "display_data"
    }
   ],
   "source": [
    "import numpy as np\n",
    "import matplotlib.pyplot as plt\n",
    "\n",
    "# Example arrays\n",
    "cost_array = np.array([[0, 1, 2], [3, 4, 5], [6, 7, 8]])\n",
    "way_array = np.array([[0, 1, 1], [3, 3, 1], [3, 2, 3]])\n",
    "\n",
    "# Create a new figure\n",
    "fig = plt.figure()\n",
    "\n",
    "# Plot the minimum path cost array\n",
    "ax1 = fig.add_subplot(121)\n",
    "ax1.imshow(cost_array, cmap='viridis', interpolation='nearest')\n",
    "ax1.set_title('Minimum Path Cost')\n",
    "\n",
    "# Plot the corresponding way array\n",
    "ax2 = fig.add_subplot(122)\n",
    "ax2.imshow(way_array, cmap='viridis', interpolation='nearest')\n",
    "ax2.set_title('Corresponding Way')\n",
    "\n",
    "# Add arrows to the corresponding way array\n",
    "for i in range(way_array.shape[0]):\n",
    "    for j in range(way_array.shape[1]):\n",
    "        if way_array[i,j] == 1:\n",
    "            ax2.arrow(j, i, 0.5, 0, head_width=0.2, head_length=0.2, fc='white', ec='white')\n",
    "        elif way_array[i,j] == 2:\n",
    "            ax2.arrow(j, i, 0, 0.5, head_width=0.2, head_length=0.2, fc='white', ec='white')\n",
    "        elif way_array[i,j] == 3:\n",
    "            ax2.arrow(j, i, 0.5, 0.5, head_width=0.2, head_length=0.2, fc='white', ec='white')\n",
    "\n",
    "# Show the figure\n",
    "plt.show()\n"
   ]
  },
  {
   "cell_type": "code",
   "execution_count": 25,
   "metadata": {},
   "outputs": [
    {
     "data": {
      "image/png": "[encoded data removed]",
      "text/plain": [
       "<Figure size 640x480 with 1 Axes>"
      ]
     },
     "metadata": {},
     "output_type": "display_data"
    }
   ],
   "source": [
    "import numpy as np\n",
    "import networkx as nx\n",
    "import matplotlib.pyplot as plt\n",
    "\n",
    "# Example array\n",
    "cost_array = dp_table\n",
    "\n",
    "# Create a new directed graph\n",
    "G = nx.DiGraph()\n",
    "\n",
    "# Add nodes to the graph\n",
    "for i in range(cost_array.shape[0]):\n",
    "    for j in range(cost_array.shape[1]):\n",
    "        node_label = cost_array[i, j]\n",
    "        G.add_node((i, j), label=node_label)\n",
    "\n",
    "# Add edges to the graph\n",
    "for i in range(cost_array.shape[0]):\n",
    "    for j in range(cost_array.shape[1]):\n",
    "        if i < cost_array.shape[0] - 1:\n",
    "            G.add_edge((i, j), (i+1, j), direction='down')\n",
    "        if j < cost_array.shape[1] - 1:\n",
    "            G.add_edge((i, j), (i, j+1), direction='right')\n",
    "        if i < cost_array.shape[0] - 1 and j < cost_array.shape[1] - 1:\n",
    "            G.add_edge((i, j), (i+1, j+1), direction='diagonal')\n",
    "\n",
    "# Set node positions based on the grid layout\n",
    "pos = dict()\n",
    "for i in range(cost_array.shape[0]):\n",
    "    for j in range(cost_array.shape[1]):\n",
    "        pos[(i, j)] = (j, cost_array.shape[0]-i-1)\n",
    "\n",
    "# Create a new figure\n",
    "fig = plt.figure()\n",
    "\n",
    "# Draw the nodes and edges of the graph\n",
    "nx.draw_networkx_nodes(G, pos, node_color='white', node_size=1000, linewidths=2)\n",
    "nx.draw_networkx_edges(G, pos, width=2, arrows=True, arrowsize=20, edge_color='gray', alpha=0.5)\n",
    "\n",
    "# Draw the labels of the nodes\n",
    "node_labels = nx.get_node_attributes(G, 'label')\n",
    "nx.draw_networkx_labels(G, pos, labels=node_labels, font_size=24, font_weight='bold')\n",
    "\n",
    "# Set axis limits and remove axis ticks\n",
    "plt.xlim(-0.5, cost_array.shape[1]-0.5)\n",
    "plt.ylim(-0.5, cost_array.shape[0]-0.5)\n",
    "plt.xticks([])\n",
    "plt.yticks([])\n",
    "\n",
    "# Show the figure\n",
    "plt.show()\n"
   ]
  }
 ],
 "metadata": {
  "kernelspec": {
   "display_name": "torchBase",
   "language": "python",
   "name": "python3"
  },
  "language_info": {
   "codemirror_mode": {
    "name": "ipython",
    "version": 3
   },
   "file_extension": ".py",
   "mimetype": "text/x-python",
   "name": "python",
   "nbconvert_exporter": "python",
   "pygments_lexer": "ipython3",
   "version": "3.9.15"
  },
  "orig_nbformat": 4,
  "vscode": {
   "interpreter": {
    "hash": "b20bb2c0907512cb07953c870e8c3ed397d85103446338ddb05b34b2d3e2b1af"
   }
  }
 },
 "nbformat": 4,
 "nbformat_minor": 2
}
