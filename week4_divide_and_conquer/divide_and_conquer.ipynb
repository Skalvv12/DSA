{
 "cells": [
  {
   "cell_type": "code",
   "execution_count": 4,
   "metadata": {},
   "outputs": [],
   "source": [
    "import numpy as np\n",
    "import random"
   ]
  },
  {
   "cell_type": "code",
   "execution_count": 5,
   "metadata": {},
   "outputs": [
    {
     "name": "stdout",
     "output_type": "stream",
     "text": [
      "[ 0  0  0  2  2  2  4  4  4  6  6  6  8  8  8 10 10 10 12 12 12 14 14 14\n",
      " 16 16 16 18 18 18 20 20 20 22 22 22 24 24 24 26 26 26 28 28 28 30 30 30\n",
      " 32 32 32 34 34 34 36 36 36 38 38 38 40 40 40 42 42 42 44 44 44 46 46 46\n",
      " 48 48 48 50 50 50 52 52 52 54 54 54 56 56 56 58 58 58 60 60 60 62 62 62\n",
      " 64 64 64 66 66 66 68 68 68 70 70 70 72 72 72 74 74 74 76 76 76 78 78 78\n",
      " 80 80 80 82 82 82 84 84 84 86 86 86 88 88 88 90 90 90 92 92 92 94 94 94\n",
      " 96 96 96 98 98 98]\n"
     ]
    }
   ],
   "source": [
    "arr = np.array([i for i in range(0, 100, 2) for _ in range(3)])\n",
    "print(arr)"
   ]
  },
  {
   "cell_type": "code",
   "execution_count": 6,
   "metadata": {},
   "outputs": [],
   "source": [
    "def binary_search_loop(keys, query):\n",
    "    start_idx, end_idx = 0, len(keys) - 1\n",
    "    \n",
    "    \n",
    "    while(start_idx <= end_idx):\n",
    "        mid_idx = (start_idx + end_idx)//2\n",
    "        if(keys[mid_idx] < query): start_idx = mid_idx + 1\n",
    "        elif(query < keys[mid_idx]): end_idx = mid_idx - 1\n",
    "        else:\n",
    "            return mid_idx\n",
    "    \n",
    "    return -1"
   ]
  },
  {
   "cell_type": "code",
   "execution_count": 7,
   "metadata": {},
   "outputs": [],
   "source": [
    "#try doing it without including last query, just writing it down and slicing\n",
    "\n",
    "def binary_search_loop_duplicates(keys, query):\n",
    "    start_idx, end_idx = 0, len(keys) - 1\n",
    "    \n",
    "    \n",
    "    while(start_idx <= end_idx):\n",
    "        mid_idx = (start_idx + end_idx)//2\n",
    "        if(keys[mid_idx] < query): start_idx = mid_idx + 1\n",
    "        elif(query < keys[mid_idx]): end_idx = mid_idx - 1\n",
    "        elif(query == keys[mid_idx] and (end_idx + 1) - start_idx > 1):\n",
    "            end_idx = mid_idx\n",
    "        else:\n",
    "            return mid_idx\n",
    "    \n",
    "    return -1"
   ]
  },
  {
   "cell_type": "code",
   "execution_count": 8,
   "metadata": {},
   "outputs": [],
   "source": [
    "def search_naive(keys, query):\n",
    "    for idx in range(len(keys)):\n",
    "        if(keys[idx] == query):\n",
    "            return idx\n",
    "    \n",
    "    return -1"
   ]
  },
  {
   "cell_type": "code",
   "execution_count": 10,
   "metadata": {},
   "outputs": [
    {
     "name": "stdout",
     "output_type": "stream",
     "text": [
      "6\n"
     ]
    },
    {
     "data": {
      "text/plain": [
       "6"
      ]
     },
     "execution_count": 10,
     "metadata": {},
     "output_type": "execute_result"
    }
   ],
   "source": [
    "a = binary_search_loop_duplicates(arr, 4)\n",
    "print(a)\n",
    "search_naive(arr, 4)"
   ]
  },
  {
   "cell_type": "code",
   "execution_count": 12,
   "metadata": {},
   "outputs": [
    {
     "name": "stdout",
     "output_type": "stream",
     "text": [
      "Result: 11579\n",
      "Execution time: 0.000057 seconds\n",
      "Result: 11579\n",
      "Execution time: 0.001332 seconds\n"
     ]
    }
   ],
   "source": [
    "import random\n",
    "import time\n",
    "\n",
    "# generate a large list of random integers with duplicates\n",
    "keys = [random.randint(1, 1000000) for _ in range(100000)]\n",
    "\n",
    "# sort the list in ascending order\n",
    "keys.sort()\n",
    "\n",
    "# select a random key to search for\n",
    "query = random.choice(keys)\n",
    "\n",
    "# measure the execution time of the binary search function\n",
    "start_time = time.time()\n",
    "result = binary_search_loop_duplicates(keys, query)\n",
    "end_time = time.time()\n",
    "print(f\"Result: {result}\")\n",
    "print(f\"Execution time: {end_time - start_time:.6f} seconds\")\n",
    "start_time = time.time()\n",
    "result_naive = search_naive(keys, query)\n",
    "end_time = time.time()\n",
    "assert(result == result_naive)\n",
    "\n",
    "# print the result and execution time\n",
    "print(f\"Result: {result}\")\n",
    "print(f\"Execution time: {end_time - start_time:.6f} seconds\")\n"
   ]
  },
  {
   "cell_type": "code",
   "execution_count": 50,
   "metadata": {},
   "outputs": [],
   "source": [
    "def window_length(end_idx, start_idx):\n",
    "    return (end_idx + 1) - start_idx\n",
    "\n",
    "def majority_element(arr):\n",
    "    arr = merge_sort(arr)\n",
    "    \n",
    "    max_window_length = 1\n",
    "    current_window = 1\n",
    "    for i in range(1, len(arr), 1):\n",
    "        if arr[i-1] == arr[i]:\n",
    "            current_window+=1\n",
    "            \n",
    "        else:\n",
    "            if max_window_length < current_window:\n",
    "                max_window_length = current_window\n",
    "                current_window=1\n",
    "        \n",
    "    if max_window_length > len(arr) / 2: # > !,  n/2, n=2 = 1 max > 1\n",
    "        return 1\n",
    "    return 0\n",
    "        \n",
    "            \n",
    "            "
   ]
  },
  {
   "cell_type": "code",
   "execution_count": 52,
   "metadata": {},
   "outputs": [
    {
     "data": {
      "text/plain": [
       "0"
      ]
     },
     "execution_count": 52,
     "metadata": {},
     "output_type": "execute_result"
    }
   ],
   "source": [
    "majority_element(keys)"
   ]
  },
  {
   "cell_type": "code",
   "execution_count": 58,
   "metadata": {},
   "outputs": [
    {
     "data": {
      "text/plain": [
       "1.0"
      ]
     },
     "execution_count": 58,
     "metadata": {},
     "output_type": "execute_result"
    }
   ],
   "source": [
    "len(arr) /2 "
   ]
  },
  {
   "cell_type": "code",
   "execution_count": 59,
   "metadata": {},
   "outputs": [
    {
     "data": {
      "text/plain": [
       "0"
      ]
     },
     "execution_count": 59,
     "metadata": {},
     "output_type": "execute_result"
    }
   ],
   "source": [
    "arr = [1, 1]\n",
    "majority_element(arr)"
   ]
  },
  {
   "cell_type": "code",
   "execution_count": 19,
   "metadata": {},
   "outputs": [],
   "source": [
    "def merge(left, right):\n",
    "    seq = [0 for i in range(len(left) + len(right))]\n",
    "    idx_min_left, idx_min_right = 0, 0\n",
    "    \n",
    "    for i in range(len(seq)):\n",
    "        \n",
    "        if(idx_min_left == len(left)):\n",
    "            seq[i:len(seq)] = right[idx_min_right:len(right)]\n",
    "            break\n",
    "        elif(idx_min_right  == len(right)):\n",
    "            seq[i:len(seq)] = left[idx_min_left:len(left)]\n",
    "            break\n",
    "        \n",
    "        elif(left[idx_min_left] < right[idx_min_right]):\n",
    "            seq[i] = left[idx_min_left]\n",
    "            idx_min_left += 1\n",
    "        else:\n",
    "            seq[i] = right[idx_min_right]\n",
    "            idx_min_right  += 1\n",
    "    \n",
    "    return seq\n",
    "\n",
    "\n",
    "def merge_sort(seq):\n",
    "    if len(seq) == 1: return seq\n",
    "    left = merge_sort(seq[0:len(seq)//2])\n",
    "    right = merge_sort(seq[len(seq)//2:len(seq)])\n",
    "    seq = merge(left, right)\n",
    "    return seq "
   ]
  },
  {
   "cell_type": "code",
   "execution_count": 32,
   "metadata": {},
   "outputs": [],
   "source": [
    "keys = [random.randint(1, 1000000) for _ in range(100000)]"
   ]
  },
  {
   "cell_type": "code",
   "execution_count": 37,
   "metadata": {},
   "outputs": [],
   "source": [
    "keys_sorted = sorted(keys)"
   ]
  },
  {
   "cell_type": "code",
   "execution_count": 39,
   "metadata": {},
   "outputs": [
    {
     "data": {
      "text/plain": [
       "True"
      ]
     },
     "execution_count": 39,
     "metadata": {},
     "output_type": "execute_result"
    }
   ],
   "source": [
    "keys_sorted == merge_sort(keys)"
   ]
  },
  {
   "cell_type": "code",
   "execution_count": 40,
   "metadata": {},
   "outputs": [
    {
     "name": "stdout",
     "output_type": "stream",
     "text": [
      "All test cases pass\n"
     ]
    }
   ],
   "source": [
    "import random\n",
    "\n",
    "def test_merge_sort():\n",
    "\n",
    "\n",
    "    # test with a list of length 1\n",
    "    seq = [5]\n",
    "    assert merge_sort(seq) == sorted(seq)\n",
    "\n",
    "    # test with a list of length 2\n",
    "    seq = [5, 3]\n",
    "    assert merge_sort(seq) == sorted(seq)\n",
    "\n",
    "    # test with a list of length 3\n",
    "    seq = [5, 3, 8]\n",
    "    assert merge_sort(seq) == sorted(seq)\n",
    "\n",
    "    # test with a list of length 10\n",
    "    seq = random.sample(range(100), 10)\n",
    "    assert merge_sort(seq) == sorted(seq)\n",
    "\n",
    "    # test with a list of length 100\n",
    "    seq = random.sample(range(1000), 100)\n",
    "    assert merge_sort(seq) == sorted(seq)\n",
    "\n",
    "    # test with a list of length 1000\n",
    "    seq = random.sample(range(10000), 1000)\n",
    "    assert merge_sort(seq) == sorted(seq)\n",
    "\n",
    "    print(\"All test cases pass\")\n",
    "\n",
    "\n",
    "# call the test function\n",
    "test_merge_sort()\n"
   ]
  },
  {
   "attachments": {},
   "cell_type": "markdown",
   "metadata": {},
   "source": [
    "#### Edge detection?"
   ]
  },
  {
   "cell_type": "code",
   "execution_count": 9,
   "metadata": {},
   "outputs": [],
   "source": [
    "\n",
    "\n",
    "def binary_search_loop_end_detection(keys, query):\n",
    "    start_idx, end_idx = 0, len(keys) - 1\n",
    "    \n",
    "    \n",
    "    while(start_idx <= end_idx):\n",
    "        mid_idx = (start_idx + end_idx)//2\n",
    "        if keys[mid_idx] < query: start_idx = mid_idx + 1\n",
    "        elif query < keys[mid_idx]: end_idx = mid_idx - 1\n",
    "        \n",
    "        elif query == keys[mid_idx]:\n",
    "            if keys[mid_idx] == keys[end_idx]: return end_idx\n",
    "            \n",
    "            \n",
    "            window_length = (end_idx + 1) - start_idx\n",
    "            if window_length > 2: start_idx = mid_idx\n",
    "            \n",
    "            if window_length <= 2: return mid_idx\n",
    "        \n",
    "    return -1\n",
    "            "
   ]
  },
  {
   "cell_type": "code",
   "execution_count": 16,
   "metadata": {},
   "outputs": [],
   "source": [
    "def search_end_idx(keys, start):\n",
    "    start_idx, end_idx = start, len(keys) - 1\n",
    "    \n",
    "    while(end_idx - start_idx > 1):\n",
    "        mid_idx = (start_idx + end_idx) // 2\n",
    "        if keys[start_idx] == keys[mid_idx]: start_idx = mid_idx\n",
    "        elif keys[start_idx] < keys[mid_idx]: end_idx = mid_idx - 1\n",
    "        \n",
    "    \n",
    "    return start_idx"
   ]
  },
  {
   "cell_type": "code",
   "execution_count": 17,
   "metadata": {},
   "outputs": [],
   "source": [
    "def binary_search_loop_edges(keys, query):\n",
    "    start = binary_search_loop_duplicates(keys, query)\n",
    "    end = search_end_idx(keys[start:len(keys)], start)\n",
    "    return [start, end]"
   ]
  },
  {
   "cell_type": "code",
   "execution_count": 13,
   "metadata": {},
   "outputs": [
    {
     "data": {
      "text/plain": [
       "array([ 0,  0,  0,  2,  2,  2,  4,  4,  4,  6,  6,  6,  8,  8,  8, 10, 10,\n",
       "       10, 12, 12, 12, 14, 14, 14, 16, 16, 16, 18, 18, 18, 20, 20, 20, 22,\n",
       "       22, 22, 24, 24, 24, 26, 26, 26, 28, 28, 28, 30, 30, 30, 32, 32, 32,\n",
       "       34, 34, 34, 36, 36, 36, 38, 38, 38, 40, 40, 40, 42, 42, 42, 44, 44,\n",
       "       44, 46, 46, 46, 48, 48, 48, 50, 50, 50, 52, 52, 52, 54, 54, 54, 56,\n",
       "       56, 56, 58, 58, 58, 60, 60, 60, 62, 62, 62, 64, 64, 64, 66, 66, 66,\n",
       "       68, 68, 68, 70, 70, 70, 72, 72, 72, 74, 74, 74, 76, 76, 76, 78, 78,\n",
       "       78, 80, 80, 80, 82, 82, 82, 84, 84, 84, 86, 86, 86, 88, 88, 88, 90,\n",
       "       90, 90, 92, 92, 92, 94, 94, 94, 96, 96, 96, 98, 98, 98])"
      ]
     },
     "execution_count": 13,
     "metadata": {},
     "output_type": "execute_result"
    }
   ],
   "source": [
    "arr"
   ]
  },
  {
   "cell_type": "code",
   "execution_count": 18,
   "metadata": {},
   "outputs": [
    {
     "data": {
      "text/plain": [
       "[3, 4]"
      ]
     },
     "execution_count": 18,
     "metadata": {},
     "output_type": "execute_result"
    }
   ],
   "source": [
    "binary_search_loop_edges(arr, 2)"
   ]
  },
  {
   "cell_type": "code",
   "execution_count": 12,
   "metadata": {},
   "outputs": [],
   "source": [
    "def naive_edge_detection(keys, query):\n",
    "    edges = [-1, -1]\n",
    "    for idx in range(len(keys)):\n",
    "        if((idx == 0 and keys[idx] == query) or (idx >= 1 and keys[idx] == query and keys[idx-1] != query)):\n",
    "            edges[0] = idx\n",
    "        if((idx == len(keys) - 1 and keys[idx] == query) or (idx < len(keys) - 1 and keys[idx] == query and keys[idx+1] != query)):\n",
    "            edges[1] = idx\n",
    "    return edges"
   ]
  },
  {
   "cell_type": "code",
   "execution_count": 5,
   "metadata": {},
   "outputs": [],
   "source": [
    "def search_naive(keys, query):\n",
    "    for idx in range(len(keys)):\n",
    "        if(keys[idx] == query):\n",
    "            return idx\n",
    "    \n",
    "    return -1"
   ]
  },
  {
   "cell_type": "code",
   "execution_count": 18,
   "metadata": {},
   "outputs": [
    {
     "data": {
      "text/plain": [
       "array([ 0,  0,  0,  2,  2,  2,  4,  4,  4,  6,  6,  6,  8,  8,  8, 10, 10,\n",
       "       10, 12, 12, 12, 14, 14, 14, 16, 16, 16, 18, 18, 18, 20, 20, 20, 22,\n",
       "       22, 22, 24, 24, 24, 26, 26, 26, 28, 28, 28, 30, 30, 30, 32, 32, 32,\n",
       "       34, 34, 34, 36, 36, 36, 38, 38, 38, 40, 40, 40, 42, 42, 42, 44, 44,\n",
       "       44, 46, 46, 46, 48, 48, 48, 50, 50, 50, 52, 52, 52, 54, 54, 54, 56,\n",
       "       56, 56, 58, 58, 58, 60, 60, 60, 62, 62, 62, 64, 64, 64, 66, 66, 66,\n",
       "       68, 68, 68, 70, 70, 70, 72, 72, 72, 74, 74, 74, 76, 76, 76, 78, 78,\n",
       "       78, 80, 80, 80, 82, 82, 82, 84, 84, 84, 86, 86, 86, 88, 88, 88, 90,\n",
       "       90, 90, 92, 92, 92, 94, 94, 94, 96, 96, 96, 98, 98, 98])"
      ]
     },
     "execution_count": 18,
     "metadata": {},
     "output_type": "execute_result"
    }
   ],
   "source": [
    "arr"
   ]
  },
  {
   "cell_type": "code",
   "execution_count": 30,
   "metadata": {},
   "outputs": [
    {
     "data": {
      "text/plain": [
       "[3, 5]"
      ]
     },
     "execution_count": 30,
     "metadata": {},
     "output_type": "execute_result"
    }
   ],
   "source": [
    "naive_edge_detection(arr, 2)"
   ]
  },
  {
   "cell_type": "code",
   "execution_count": 32,
   "metadata": {},
   "outputs": [
    {
     "data": {
      "text/plain": [
       "[3, 4]"
      ]
     },
     "execution_count": 32,
     "metadata": {},
     "output_type": "execute_result"
    }
   ],
   "source": [
    "binary_search_loop_edges(arr, 2)"
   ]
  },
  {
   "cell_type": "code",
   "execution_count": 6,
   "metadata": {},
   "outputs": [
    {
     "ename": "NameError",
     "evalue": "name 'binary_search_duplicates' is not defined",
     "output_type": "error",
     "traceback": [
      "\u001b[0;31m---------------------------------------------------------------------------\u001b[0m",
      "\u001b[0;31mNameError\u001b[0m                                 Traceback (most recent call last)",
      "Cell \u001b[0;32mIn[6], line 1\u001b[0m\n\u001b[0;32m----> 1\u001b[0m binary_search_duplicates(arr, \u001b[39m8\u001b[39m)\n",
      "\u001b[0;31mNameError\u001b[0m: name 'binary_search_duplicates' is not defined"
     ]
    }
   ],
   "source": [
    "binary_search_duplicates(arr, 8)"
   ]
  },
  {
   "cell_type": "code",
   "execution_count": 109,
   "metadata": {},
   "outputs": [
    {
     "data": {
      "text/plain": [
       "12"
      ]
     },
     "execution_count": 109,
     "metadata": {},
     "output_type": "execute_result"
    }
   ],
   "source": [
    "search_naive(arr, 8)"
   ]
  },
  {
   "cell_type": "code",
   "execution_count": 101,
   "metadata": {},
   "outputs": [
    {
     "name": "stdout",
     "output_type": "stream",
     "text": [
      "p\n"
     ]
    },
    {
     "data": {
      "text/plain": [
       "4"
      ]
     },
     "execution_count": 101,
     "metadata": {},
     "output_type": "execute_result"
    }
   ],
   "source": [
    "binary_search_loop(arr, 8)"
   ]
  },
  {
   "cell_type": "code",
   "execution_count": 117,
   "metadata": {},
   "outputs": [],
   "source": [
    "def test_duplicates(keys, query):\n",
    "    for q in range(1, query, 1):\n",
    "        if(search_naive(keys, q) != binary_search_loop_duplicates(keys, q)):\n",
    "            print(q)"
   ]
  },
  {
   "cell_type": "code",
   "execution_count": 141,
   "metadata": {},
   "outputs": [],
   "source": [
    "test_duplicates(arr, 98)"
   ]
  },
  {
   "cell_type": "code",
   "execution_count": 111,
   "metadata": {},
   "outputs": [],
   "source": [
    "def test_simple_binary_search(keys, query):\n",
    "    for q in range(1, query, 1):\n",
    "        if(search_naive(keys, q) != binary_search_loop(keys, q)):\n",
    "            print(q)"
   ]
  },
  {
   "cell_type": "code",
   "execution_count": 185,
   "metadata": {},
   "outputs": [],
   "source": [
    "def test_end_detection(keys, query):\n",
    "    for q in range(1, query, 1):\n",
    "        if(naive_edge_detection(keys, q)[1] != binary_search_loop_end_detection(keys, q)):\n",
    "            print(q)"
   ]
  },
  {
   "cell_type": "code",
   "execution_count": 173,
   "metadata": {},
   "outputs": [],
   "source": [
    "def test_naive_detection(keys, query):\n",
    "    for q in range(1, query, 1):\n",
    "        print(naive_edge_detection(keys, q))"
   ]
  },
  {
   "cell_type": "code",
   "execution_count": 181,
   "metadata": {},
   "outputs": [
    {
     "data": {
      "text/plain": [
       "29"
      ]
     },
     "execution_count": 181,
     "metadata": {},
     "output_type": "execute_result"
    }
   ],
   "source": [
    "binary_search_loop_end_detection(arr,18)"
   ]
  },
  {
   "cell_type": "code",
   "execution_count": 177,
   "metadata": {},
   "outputs": [
    {
     "data": {
      "text/plain": [
       "18"
      ]
     },
     "execution_count": 177,
     "metadata": {},
     "output_type": "execute_result"
    }
   ],
   "source": [
    "arr[27]"
   ]
  },
  {
   "cell_type": "code",
   "execution_count": 186,
   "metadata": {},
   "outputs": [],
   "source": [
    "test_end_detection(arr, 98)"
   ]
  },
  {
   "cell_type": "code",
   "execution_count": 53,
   "metadata": {},
   "outputs": [],
   "source": [
    "def binary_search_r(keys, query):\n",
    "    mid_num = len(keys)//2\n",
    "    mid_key = keys[mid_num]\n",
    "    res = False\n",
    "    \n",
    "    if(len(keys) == 1 and mid_key != query):\n",
    "        return False\n",
    "    \n",
    "    if(mid_key < query):\n",
    "        res = binary_search_r(keys[mid_num:len(keys)], query)\n",
    "    elif(mid_key > query):\n",
    "        res = binary_search_r(keys[0:mid_num], query)\n",
    "    elif(mid_key == query):\n",
    "        return True\n",
    "    \n",
    "    return res\n",
    "        "
   ]
  },
  {
   "cell_type": "code",
   "execution_count": 106,
   "metadata": {},
   "outputs": [],
   "source": [
    "def binary_search_duplicates(keys, start, end, query):\n",
    "    \n",
    "    mid_num = len(keys)//2\n",
    "    mid_key = keys[mid_num]\n",
    "    res = -1\n",
    "    \n",
    "    if(len(keys) == 1 and mid_key != query):\n",
    "        return -1\n",
    "    \n",
    "    if(mid_key < query):\n",
    "        res = binary_search_duplicates(keys[mid_num:end], mid_num, end, query)\n",
    "    elif(mid_key > query):\n",
    "        res = binary_search_duplicates(keys[0:mid_num], 0, end-mid_num, query)\n",
    "    elif(mid_key == query and len(keys) > 2):\n",
    "        print(\"mid_num: \", mid_num)\n",
    "        print(\"res\", res)\n",
    "        print(\"keys\", keys)\n",
    "        print(\"end\", end)\n",
    "        res = binary_search_duplicates(keys[0:(mid_num+1)], 0, end - mid_num + 1, query)\n",
    "    elif(mid_key == query and len(keys) == 2):\n",
    "        res = end-1\n",
    "    \n",
    "    return res\n",
    "        \n",
    "\n",
    "    "
   ]
  },
  {
   "cell_type": "code",
   "execution_count": 28,
   "metadata": {},
   "outputs": [],
   "source": [
    "def binary_search_duplicates(keys, end, query):\n",
    "    \n",
    "    mid_num = len(keys)//2\n",
    "    mid_key = keys[mid_num]\n",
    "    res = -1\n",
    "    \n",
    "    if(mid_key == query and len(keys) == 2):\n",
    "        res = end\n",
    "    if(len(keys) == 1 and mid_key != query):\n",
    "        return -1\n",
    "    \n",
    "    if(mid_key < query):\n",
    "        res = binary_search_duplicates(keys[mid_num:len(keys)], end, query)\n",
    "    elif(mid_key > query):\n",
    "        res = binary_search_duplicates(keys[0:mid_num], end - mid_num, query)\n",
    "    elif(mid_key == query and len(keys) > 2):\n",
    "        res = binary_search_duplicates(keys[0:(mid_num+1)], end - mid_num, query)\n",
    "    elif(mid_key == query and len(keys) == 2):\n",
    "        res = end\n",
    "    \n",
    "    return res\n",
    "        \n",
    "\n",
    "    "
   ]
  },
  {
   "cell_type": "code",
   "execution_count": 78,
   "metadata": {},
   "outputs": [],
   "source": [
    "def binary_search_duplicates(keys, last_idx, query):\n",
    "    mid_num = len(keys)//2\n",
    "    mid_key = keys[mid_num]\n",
    "    res = -1\n",
    "    \n",
    "    if(mid_key == query and len(keys) == 2):\n",
    "        res = last_idx\n",
    "        \n",
    "    elif(len(keys) == 1):\n",
    "        return -1\n",
    "    \n",
    "    if(mid_key < query):\n",
    "        res = binary_search_duplicates(keys[mid_num+1:len(keys)], last_idx, query)\n",
    "    elif(mid_key > query):\n",
    "        res = binary_search_duplicates(keys[0:mid_num+1], last_idx+1 - mid_num, query)\n",
    "    elif(mid_key == query and len(keys) > 1):\n",
    "        res = binary_search_duplicates(keys[0:mid_num+1], last_idx+1 - mid_num, query)\n",
    "    elif(mid_key == query and len(keys) == 1):\n",
    "        res = last_idx\n",
    "    \n",
    "    if(mid_key < query):\n",
    "        res = binary_search_duplicates(keys[mid_num+1 : len(keys)], query)\n",
    "    elif(mid_key > query):\n",
    "        res = binary_search_duplicates(keys[0 : mid_num+1], query)\n",
    "    return res"
   ]
  },
  {
   "cell_type": "code",
   "execution_count": 77,
   "metadata": {},
   "outputs": [],
   "source": [
    "def binary_search(keys, query):\n",
    "    mid_num = len(keys)//2\n",
    "    mid_key = keys[mid_num]\n",
    "    \n",
    "    \n",
    "    if(mid_key == query):\n",
    "        return 1\n",
    "    elif(len(keys) == 1):\n",
    "        return -1\n",
    "    \n",
    "    if(mid_key < query):\n",
    "        res = binary_search(keys[mid_num+1 : len(keys)], query)\n",
    "    elif(mid_key > query):\n",
    "        res = binary_search(keys[0 : mid_num+1], query)\n",
    "    return res\n",
    "    \n",
    "    \n",
    "    "
   ]
  },
  {
   "cell_type": "code",
   "execution_count": 2,
   "metadata": {},
   "outputs": [
    {
     "data": {
      "text/plain": [
       "4294967296"
      ]
     },
     "execution_count": 2,
     "metadata": {},
     "output_type": "execute_result"
    }
   ],
   "source": [
    "2**32"
   ]
  },
  {
   "cell_type": "code",
   "execution_count": 4,
   "metadata": {},
   "outputs": [
    {
     "data": {
      "text/plain": [
       "90000000000"
      ]
     },
     "execution_count": 4,
     "metadata": {},
     "output_type": "execute_result"
    }
   ],
   "source": [
    "9*10**10"
   ]
  },
  {
   "cell_type": "code",
   "execution_count": 1,
   "metadata": {},
   "outputs": [
    {
     "data": {
      "text/plain": [
       "1000000000"
      ]
     },
     "execution_count": 1,
     "metadata": {},
     "output_type": "execute_result"
    }
   ],
   "source": [
    "10**9"
   ]
  },
  {
   "cell_type": "code",
   "execution_count": 18,
   "metadata": {},
   "outputs": [],
   "source": [
    "def naive_search_duplicates(keys, queries):\n",
    "    \n",
    "    for query in queries:\n",
    "        for key_num in range(len(keys)):\n",
    "            if keys[key_num] == query:\n",
    "                return key_num\n",
    "            \n",
    "    else: \n",
    "        return -1"
   ]
  },
  {
   "cell_type": "code",
   "execution_count": 152,
   "metadata": {},
   "outputs": [],
   "source": [
    "def binary_search_q(keys, query):\n",
    "    res = [-1 for i in range(len(query))]\n",
    "    for i in range(len(query)):\n",
    "        res[i] = i if binary_search(keys, query[i]) else -1\n",
    "    return res\n",
    "\n",
    "        "
   ]
  },
  {
   "cell_type": "code",
   "execution_count": 34,
   "metadata": {},
   "outputs": [],
   "source": []
  },
  {
   "cell_type": "code",
   "execution_count": 33,
   "metadata": {},
   "outputs": [],
   "source": []
  },
  {
   "cell_type": "code",
   "execution_count": 35,
   "metadata": {},
   "outputs": [],
   "source": [
    "arr2 = [i for i in range(9) for _ in range(3)]\n",
    "arr1 = [i for i in range(17, 0, -1) for _ in range(2)]"
   ]
  },
  {
   "cell_type": "code",
   "execution_count": 36,
   "metadata": {},
   "outputs": [
    {
     "data": {
      "text/plain": [
       "list"
      ]
     },
     "execution_count": 36,
     "metadata": {},
     "output_type": "execute_result"
    }
   ],
   "source": [
    "type(arr1)"
   ]
  },
  {
   "cell_type": "code",
   "execution_count": 37,
   "metadata": {},
   "outputs": [
    {
     "name": "stdout",
     "output_type": "stream",
     "text": [
      "[17, 17, 16, 16, 15, 15, 14, 14, 13, 13, 12, 12, 11, 11, 10, 10, 9, 9, 8, 8, 7, 7, 6, 6, 5, 5, 4, 4, 3, 3, 2, 2, 1, 1]\n"
     ]
    }
   ],
   "source": [
    "print(arr1)"
   ]
  },
  {
   "cell_type": "code",
   "execution_count": 38,
   "metadata": {},
   "outputs": [
    {
     "name": "stdout",
     "output_type": "stream",
     "text": [
      "[1, 1, 2, 2, 3, 3, 4, 4, 5, 5, 6, 6, 7, 7, 8, 8, 9, 9, 10, 10, 11, 11, 12, 12, 13, 13, 14, 14, 15, 15, 16, 16, 17, 17]\n"
     ]
    }
   ],
   "source": [
    "arr1_sort = merge_sort(arr1)\n",
    "print(arr1_sort)"
   ]
  },
  {
   "cell_type": "code",
   "execution_count": 18,
   "metadata": {},
   "outputs": [],
   "source": [
    "arr_merge = merge(arr1, arr2)"
   ]
  },
  {
   "cell_type": "code",
   "execution_count": 21,
   "metadata": {},
   "outputs": [
    {
     "name": "stdout",
     "output_type": "stream",
     "text": [
      "[5, 5, 6, 6, 7, 7, 8, 8, 9, 9, 10, 10, 11, 11, 12, 12, 13, 13, 14, 14, 15, 15, 16, 16] \n",
      " [0, 0, 0, 1, 1, 1, 2, 2, 2, 3, 3, 3, 4, 4, 4, 5, 5, 5, 6, 6, 6, 7, 7, 7, 8, 8, 8]\n"
     ]
    }
   ],
   "source": [
    "print(arr1, \"\\n\", arr2)"
   ]
  },
  {
   "cell_type": "code",
   "execution_count": 20,
   "metadata": {},
   "outputs": [
    {
     "name": "stdout",
     "output_type": "stream",
     "text": [
      "[0, 0, 0, 1, 1, 1, 2, 2, 2, 3, 3, 3, 4, 4, 4, 5, 5, 5, 5, 5, 6, 6, 6, 6, 6, 7, 7, 7, 7, 7, 8, 8, 8, 8, 8, 9, 9, 10, 10, 11, 11, 12, 12, 13, 13, 14, 14, 15, 15, 16, 16]\n"
     ]
    }
   ],
   "source": [
    "print(arr_merge)"
   ]
  },
  {
   "cell_type": "code",
   "execution_count": 46,
   "metadata": {},
   "outputs": [],
   "source": [
    "import random"
   ]
  },
  {
   "cell_type": "code",
   "execution_count": 51,
   "metadata": {},
   "outputs": [],
   "source": [
    "\n",
    "# just use swap instead dynamic array\n",
    "def quicksort(seq):\n",
    "    if len(seq) == 1: \n",
    "        return seq\n",
    "    \n",
    "    new_seq, left, right = [], [], []    #dynamic arrays also nlog(n)\n",
    "    partition_idx = random.randint(0, len(seq))\n",
    "    for i in range(len(seq)):\n",
    "        if seq[partition_idx] > seq[i]:\n",
    "            left.append(seq[i])\n",
    "        else: right.append(seq[i])\n",
    "        \n",
    "    new_seq.append(quicksort(left))\n",
    "    new_seq.append(seq[partition_idx])\n",
    "    new_seq.append(quicksort(right))\n",
    "    \n",
    "    return new_seq"
   ]
  },
  {
   "cell_type": "code",
   "execution_count": null,
   "metadata": {},
   "outputs": [],
   "source": [
    "def quicksort(seq):\n",
    "    partition_idx = random.randint(0, len(seq))\n",
    "    \n",
    "    for i in range(len(seq)):\n",
    "        if seq[partition_idx]"
   ]
  },
  {
   "cell_type": "code",
   "execution_count": 55,
   "metadata": {},
   "outputs": [
    {
     "name": "stdout",
     "output_type": "stream",
     "text": [
      "[17, 17, 16, 16, 15, 15, 14, 14, 13, 13, 12, 12, 11, 11, 10, 10, 9, 9, 8, 8, 7, 7, 6, 6, 5, 5, 4, 4, 3, 3, 2, 2, 1, 1, [12, 1234, 124], [12, 1234, 124]]\n"
     ]
    }
   ],
   "source": [
    "arr1.append([12,1234,124])\n",
    "print(arr1)"
   ]
  },
  {
   "cell_type": "markdown",
   "metadata": {},
   "source": []
  },
  {
   "cell_type": "code",
   "execution_count": 52,
   "metadata": {},
   "outputs": [
    {
     "ename": "IndexError",
     "evalue": "list index out of range",
     "output_type": "error",
     "traceback": [
      "\u001b[0;31m---------------------------------------------------------------------------\u001b[0m",
      "\u001b[0;31mIndexError\u001b[0m                                Traceback (most recent call last)",
      "Cell \u001b[0;32mIn[52], line 1\u001b[0m\n\u001b[0;32m----> 1\u001b[0m quicksort(arr1)\n",
      "Cell \u001b[0;32mIn[51], line 12\u001b[0m, in \u001b[0;36mquicksort\u001b[0;34m(seq)\u001b[0m\n\u001b[1;32m      9\u001b[0m         left\u001b[39m.\u001b[39mappend(seq[i])\n\u001b[1;32m     10\u001b[0m     \u001b[39melse\u001b[39;00m: right\u001b[39m.\u001b[39mappend(seq[i])\n\u001b[0;32m---> 12\u001b[0m new_seq\u001b[39m.\u001b[39mappend(quicksort(left))\n\u001b[1;32m     13\u001b[0m new_seq\u001b[39m.\u001b[39mappend(seq[partition_idx])\n\u001b[1;32m     14\u001b[0m new_seq\u001b[39m.\u001b[39mappend(quicksort(right))\n",
      "Cell \u001b[0;32mIn[51], line 12\u001b[0m, in \u001b[0;36mquicksort\u001b[0;34m(seq)\u001b[0m\n\u001b[1;32m      9\u001b[0m         left\u001b[39m.\u001b[39mappend(seq[i])\n\u001b[1;32m     10\u001b[0m     \u001b[39melse\u001b[39;00m: right\u001b[39m.\u001b[39mappend(seq[i])\n\u001b[0;32m---> 12\u001b[0m new_seq\u001b[39m.\u001b[39mappend(quicksort(left))\n\u001b[1;32m     13\u001b[0m new_seq\u001b[39m.\u001b[39mappend(seq[partition_idx])\n\u001b[1;32m     14\u001b[0m new_seq\u001b[39m.\u001b[39mappend(quicksort(right))\n",
      "Cell \u001b[0;32mIn[51], line 12\u001b[0m, in \u001b[0;36mquicksort\u001b[0;34m(seq)\u001b[0m\n\u001b[1;32m      9\u001b[0m         left\u001b[39m.\u001b[39mappend(seq[i])\n\u001b[1;32m     10\u001b[0m     \u001b[39melse\u001b[39;00m: right\u001b[39m.\u001b[39mappend(seq[i])\n\u001b[0;32m---> 12\u001b[0m new_seq\u001b[39m.\u001b[39mappend(quicksort(left))\n\u001b[1;32m     13\u001b[0m new_seq\u001b[39m.\u001b[39mappend(seq[partition_idx])\n\u001b[1;32m     14\u001b[0m new_seq\u001b[39m.\u001b[39mappend(quicksort(right))\n",
      "Cell \u001b[0;32mIn[51], line 8\u001b[0m, in \u001b[0;36mquicksort\u001b[0;34m(seq)\u001b[0m\n\u001b[1;32m      6\u001b[0m partition_idx \u001b[39m=\u001b[39m random\u001b[39m.\u001b[39mrandint(\u001b[39m0\u001b[39m, \u001b[39mlen\u001b[39m(seq))\n\u001b[1;32m      7\u001b[0m \u001b[39mfor\u001b[39;00m i \u001b[39min\u001b[39;00m \u001b[39mrange\u001b[39m(\u001b[39mlen\u001b[39m(seq)):\n\u001b[0;32m----> 8\u001b[0m     \u001b[39mif\u001b[39;00m seq[partition_idx] \u001b[39m>\u001b[39m seq[i]:\n\u001b[1;32m      9\u001b[0m         left\u001b[39m.\u001b[39mappend(seq[i])\n\u001b[1;32m     10\u001b[0m     \u001b[39melse\u001b[39;00m: right\u001b[39m.\u001b[39mappend(seq[i])\n",
      "\u001b[0;31mIndexError\u001b[0m: list index out of range"
     ]
    }
   ],
   "source": [
    "quicksort(arr1)"
   ]
  },
  {
   "cell_type": "code",
   "execution_count": 1,
   "metadata": {},
   "outputs": [],
   "source": [
    "import numpy as np"
   ]
  },
  {
   "cell_type": "code",
   "execution_count": 8,
   "metadata": {},
   "outputs": [],
   "source": [
    "def edit_distance(first_string, second_string):\n",
    "    dp_table = np.zeros((len(first_string)+1, len(second_string) + 1))\n",
    "    \n",
    "    for i in range(dp_table.shape[0]):\n",
    "        for j in range(dp_table.shape[1]):\n",
    "            if i == 0 and j == 0:\n",
    "                dp_table[i, j] = 0\n",
    "            elif i == 0:\n",
    "                dp_table[i, j] = dp_table[i, j-1] + 1\n",
    "            elif j == 0:\n",
    "                dp_table[i, j] = dp_table[i-1, j] + 1\n",
    "            else:\n",
    "                \n",
    "    return dp_table"
   ]
  },
  {
   "cell_type": "code",
   "execution_count": 9,
   "metadata": {},
   "outputs": [
    {
     "data": {
      "text/plain": [
       "array([[0., 1., 2., 3.],\n",
       "       [1., 0., 0., 0.],\n",
       "       [2., 0., 0., 0.],\n",
       "       [3., 0., 0., 0.],\n",
       "       [4., 0., 0., 0.]])"
      ]
     },
     "execution_count": 9,
     "metadata": {},
     "output_type": "execute_result"
    }
   ],
   "source": [
    "edit_distance(\"suck\", \"ass\")"
   ]
  },
  {
   "cell_type": "code",
   "execution_count": 10,
   "metadata": {},
   "outputs": [
    {
     "data": {
      "text/plain": [
       "array([[0., 1., 2., 3., 4., 5., 6., 7., 8.],\n",
       "       [1., 0., 0., 0., 0., 0., 0., 0., 0.],\n",
       "       [2., 0., 0., 0., 0., 0., 0., 0., 0.],\n",
       "       [3., 0., 0., 0., 0., 0., 0., 0., 0.],\n",
       "       [4., 0., 0., 0., 0., 0., 0., 0., 0.],\n",
       "       [5., 0., 0., 0., 0., 0., 0., 0., 0.],\n",
       "       [6., 0., 0., 0., 0., 0., 0., 0., 0.],\n",
       "       [7., 0., 0., 0., 0., 0., 0., 0., 0.]])"
      ]
     },
     "execution_count": 10,
     "metadata": {},
     "output_type": "execute_result"
    }
   ],
   "source": [
    "edit_distance(\"editing\", \"distance\")"
   ]
  },
  {
   "cell_type": "code",
   "execution_count": 2,
   "metadata": {},
   "outputs": [],
   "source": [
    "a = \"ab\""
   ]
  },
  {
   "cell_type": "code",
   "execution_count": 4,
   "metadata": {},
   "outputs": [
    {
     "data": {
      "text/plain": [
       "2"
      ]
     },
     "execution_count": 4,
     "metadata": {},
     "output_type": "execute_result"
    }
   ],
   "source": [
    "len(a)"
   ]
  }
 ],
 "metadata": {
  "kernelspec": {
   "display_name": "torchBase",
   "language": "python",
   "name": "python3"
  },
  "language_info": {
   "codemirror_mode": {
    "name": "ipython",
    "version": 3
   },
   "file_extension": ".py",
   "mimetype": "text/x-python",
   "name": "python",
   "nbconvert_exporter": "python",
   "pygments_lexer": "ipython3",
   "version": "3.9.15"
  },
  "orig_nbformat": 4,
  "vscode": {
   "interpreter": {
    "hash": "b20bb2c0907512cb07953c870e8c3ed397d85103446338ddb05b34b2d3e2b1af"
   }
  }
 },
 "nbformat": 4,
 "nbformat_minor": 2
}
