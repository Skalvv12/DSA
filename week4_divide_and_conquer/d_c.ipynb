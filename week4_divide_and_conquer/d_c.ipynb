{
 "cells": [
  {
   "cell_type": "code",
   "execution_count": 3,
   "metadata": {},
   "outputs": [],
   "source": [
    "import numpy as np\n",
    "import random"
   ]
  },
  {
   "cell_type": "code",
   "execution_count": 4,
   "metadata": {},
   "outputs": [
    {
     "name": "stdout",
     "output_type": "stream",
     "text": [
      "[ 0  0  0  2  2  2  4  4  4  6  6  6  8  8  8 10 10 10 12 12 12 14 14 14\n",
      " 16 16 16 18 18 18 20 20 20 22 22 22 24 24 24 26 26 26 28 28 28 30 30 30\n",
      " 32 32 32 34 34 34 36 36 36 38 38 38 40 40 40 42 42 42 44 44 44 46 46 46\n",
      " 48 48 48 50 50 50 52 52 52 54 54 54 56 56 56 58 58 58 60 60 60 62 62 62\n",
      " 64 64 64 66 66 66 68 68 68 70 70 70 72 72 72 74 74 74 76 76 76 78 78 78\n",
      " 80 80 80 82 82 82 84 84 84 86 86 86 88 88 88 90 90 90 92 92 92 94 94 94\n",
      " 96 96 96 98 98 98]\n"
     ]
    }
   ],
   "source": [
    "arr = np.array([i for i in range(0, 100, 2) for _ in range(3)])\n",
    "print(arr)"
   ]
  },
  {
   "cell_type": "code",
   "execution_count": 5,
   "metadata": {},
   "outputs": [],
   "source": [
    "def search_naive(keys, query):\n",
    "    for idx in range(len(keys)):\n",
    "        if(keys[idx] == query):\n",
    "            return idx\n",
    "    \n",
    "    return -1"
   ]
  },
  {
   "cell_type": "code",
   "execution_count": 7,
   "metadata": {},
   "outputs": [
    {
     "data": {
      "text/plain": [
       "108"
      ]
     },
     "execution_count": 7,
     "metadata": {},
     "output_type": "execute_result"
    }
   ],
   "source": [
    "search_naive(arr, 72)"
   ]
  },
  {
   "cell_type": "code",
   "execution_count": 10,
   "metadata": {},
   "outputs": [],
   "source": [
    "def binary_search_loop_duplicates(keys, query):\n",
    "    start_idx, end_idx = 0, len(keys) - 1\n",
    "    \n",
    "    \n",
    "    while(start_idx <= end_idx):\n",
    "        mid_idx = (start_idx + end_idx)//2\n",
    "        if(keys[mid_idx] < query): start_idx = mid_idx + 1\n",
    "        elif(query < keys[mid_idx]): end_idx = mid_idx - 1\n",
    "        elif(query == keys[mid_idx] and (end_idx + 1) - start_idx > 1):end_idx = mid_idx\n",
    "        else:\n",
    "            return mid_idx\n",
    "    \n",
    "    return -1"
   ]
  },
  {
   "cell_type": "code",
   "execution_count": 11,
   "metadata": {},
   "outputs": [
    {
     "data": {
      "text/plain": [
       "108"
      ]
     },
     "execution_count": 11,
     "metadata": {},
     "output_type": "execute_result"
    }
   ],
   "source": [
    "binary_search_loop_duplicates(arr, 72)"
   ]
  },
  {
   "cell_type": "code",
   "execution_count": null,
   "metadata": {},
   "outputs": [],
   "source": []
  },
  {
   "cell_type": "code",
   "execution_count": 1,
   "metadata": {},
   "outputs": [],
   "source": []
  },
  {
   "cell_type": "code",
   "execution_count": 4,
   "metadata": {},
   "outputs": [],
   "source": []
  },
  {
   "cell_type": "code",
   "execution_count": 5,
   "metadata": {},
   "outputs": [
    {
     "data": {
      "text/plain": [
       "array([[0., 1., 2., 3.],\n",
       "       [1., 0., 0., 0.],\n",
       "       [2., 0., 0., 0.],\n",
       "       [3., 0., 0., 0.],\n",
       "       [4., 0., 0., 0.]])"
      ]
     },
     "execution_count": 5,
     "metadata": {},
     "output_type": "execute_result"
    }
   ],
   "source": []
  },
  {
   "cell_type": "code",
   "execution_count": 6,
   "metadata": {},
   "outputs": [
    {
     "data": {
      "text/plain": [
       "array([[0., 1., 2., 3., 4., 5., 6., 7., 8.],\n",
       "       [1., 0., 0., 0., 0., 0., 0., 0., 0.],\n",
       "       [2., 0., 0., 0., 0., 0., 0., 0., 0.],\n",
       "       [3., 0., 0., 0., 0., 0., 0., 0., 0.],\n",
       "       [4., 0., 0., 0., 0., 0., 0., 0., 0.],\n",
       "       [5., 0., 0., 0., 0., 0., 0., 0., 0.],\n",
       "       [6., 0., 0., 0., 0., 0., 0., 0., 0.],\n",
       "       [7., 0., 0., 0., 0., 0., 0., 0., 0.]])"
      ]
     },
     "execution_count": 6,
     "metadata": {},
     "output_type": "execute_result"
    }
   ],
   "source": []
  }
 ],
 "metadata": {
  "kernelspec": {
   "display_name": "torchBase",
   "language": "python",
   "name": "python3"
  },
  "language_info": {
   "codemirror_mode": {
    "name": "ipython",
    "version": 3
   },
   "file_extension": ".py",
   "mimetype": "text/x-python",
   "name": "python",
   "nbconvert_exporter": "python",
   "pygments_lexer": "ipython3",
   "version": "3.9.15"
  },
  "orig_nbformat": 4
 },
 "nbformat": 4,
 "nbformat_minor": 2
}
